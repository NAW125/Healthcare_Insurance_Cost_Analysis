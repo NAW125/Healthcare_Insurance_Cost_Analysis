{
 "cells": [
  {
   "cell_type": "markdown",
   "id": "79f68cc2",
   "metadata": {},
   "source": [
    "## 3 Visualisations \n"
   ]
  },
  {
   "cell_type": "code",
   "execution_count": 23,
   "id": "1fe41d6c",
   "metadata": {},
   "outputs": [],
   "source": [
    "import numpy as np\n",
    "import pandas as pd\n",
    "import matplotlib.pyplot as plt\n",
    "import seaborn as sns\n",
    "import plotly.io as pio\n",
    "import plotly.express as px"
   ]
  },
  {
   "cell_type": "code",
   "execution_count": 24,
   "id": "0db625a4",
   "metadata": {},
   "outputs": [
    {
     "data": {
      "text/html": [
       "<div>\n",
       "<style scoped>\n",
       "    .dataframe tbody tr th:only-of-type {\n",
       "        vertical-align: middle;\n",
       "    }\n",
       "\n",
       "    .dataframe tbody tr th {\n",
       "        vertical-align: top;\n",
       "    }\n",
       "\n",
       "    .dataframe thead th {\n",
       "        text-align: right;\n",
       "    }\n",
       "</style>\n",
       "<table border=\"1\" class=\"dataframe\">\n",
       "  <thead>\n",
       "    <tr style=\"text-align: right;\">\n",
       "      <th></th>\n",
       "      <th>age</th>\n",
       "      <th>bmi</th>\n",
       "      <th>children</th>\n",
       "      <th>charges</th>\n",
       "      <th>sex_encoded</th>\n",
       "      <th>smoker_encoded</th>\n",
       "      <th>region_northeast</th>\n",
       "      <th>region_northwest</th>\n",
       "      <th>region_southeast</th>\n",
       "      <th>region_southwest</th>\n",
       "    </tr>\n",
       "  </thead>\n",
       "  <tbody>\n",
       "    <tr>\n",
       "      <th>0</th>\n",
       "      <td>19</td>\n",
       "      <td>27.900</td>\n",
       "      <td>0</td>\n",
       "      <td>16884.92400</td>\n",
       "      <td>1</td>\n",
       "      <td>1</td>\n",
       "      <td>0</td>\n",
       "      <td>0</td>\n",
       "      <td>0</td>\n",
       "      <td>1</td>\n",
       "    </tr>\n",
       "    <tr>\n",
       "      <th>1</th>\n",
       "      <td>18</td>\n",
       "      <td>33.770</td>\n",
       "      <td>1</td>\n",
       "      <td>1725.55230</td>\n",
       "      <td>0</td>\n",
       "      <td>0</td>\n",
       "      <td>0</td>\n",
       "      <td>0</td>\n",
       "      <td>1</td>\n",
       "      <td>0</td>\n",
       "    </tr>\n",
       "    <tr>\n",
       "      <th>2</th>\n",
       "      <td>28</td>\n",
       "      <td>33.000</td>\n",
       "      <td>3</td>\n",
       "      <td>4449.46200</td>\n",
       "      <td>0</td>\n",
       "      <td>0</td>\n",
       "      <td>0</td>\n",
       "      <td>0</td>\n",
       "      <td>1</td>\n",
       "      <td>0</td>\n",
       "    </tr>\n",
       "    <tr>\n",
       "      <th>3</th>\n",
       "      <td>33</td>\n",
       "      <td>22.705</td>\n",
       "      <td>0</td>\n",
       "      <td>21984.47061</td>\n",
       "      <td>0</td>\n",
       "      <td>0</td>\n",
       "      <td>0</td>\n",
       "      <td>1</td>\n",
       "      <td>0</td>\n",
       "      <td>0</td>\n",
       "    </tr>\n",
       "    <tr>\n",
       "      <th>4</th>\n",
       "      <td>32</td>\n",
       "      <td>28.880</td>\n",
       "      <td>0</td>\n",
       "      <td>3866.85520</td>\n",
       "      <td>0</td>\n",
       "      <td>0</td>\n",
       "      <td>0</td>\n",
       "      <td>1</td>\n",
       "      <td>0</td>\n",
       "      <td>0</td>\n",
       "    </tr>\n",
       "  </tbody>\n",
       "</table>\n",
       "</div>"
      ],
      "text/plain": [
       "   age     bmi  children      charges  sex_encoded  smoker_encoded  \\\n",
       "0   19  27.900         0  16884.92400            1               1   \n",
       "1   18  33.770         1   1725.55230            0               0   \n",
       "2   28  33.000         3   4449.46200            0               0   \n",
       "3   33  22.705         0  21984.47061            0               0   \n",
       "4   32  28.880         0   3866.85520            0               0   \n",
       "\n",
       "   region_northeast  region_northwest  region_southeast  region_southwest  \n",
       "0                 0                 0                 0                 1  \n",
       "1                 0                 0                 1                 0  \n",
       "2                 0                 0                 1                 0  \n",
       "3                 0                 1                 0                 0  \n",
       "4                 0                 1                 0                 0  "
      ]
     },
     "execution_count": 24,
     "metadata": {},
     "output_type": "execute_result"
    }
   ],
   "source": [
    "df = pd.read_csv('data_raw/insurance_transformed.csv')\n",
    "df.head()"
   ]
  },
  {
   "cell_type": "markdown",
   "id": "cd8aaa8b",
   "metadata": {},
   "source": [
    "Start by calculating the average cost by region, to see if there is any difference in the costs based on location. "
   ]
  },
  {
   "cell_type": "code",
   "execution_count": 25,
   "id": "fa26a216",
   "metadata": {},
   "outputs": [
    {
     "name": "stdout",
     "output_type": "stream",
     "text": [
      "region_northeast: 13406.384516385804\n",
      "region_northwest: 12450.840843950617\n",
      "region_southeast: 14735.411437609888\n",
      "region_southwest: 12346.937377292308\n"
     ]
    }
   ],
   "source": [
    "regions = ['region_northeast', 'region_northwest', 'region_southeast', 'region_southwest']\n",
    "average_costs = {}\n",
    "\n",
    "for region in regions:\n",
    "    filtered_df = df[df[region] == 1]\n",
    "    avg_cost = filtered_df['charges'].mean()\n",
    "    average_costs[region] = avg_cost  \n",
    "    print(f\"{region}: {avg_cost}\")"
   ]
  },
  {
   "cell_type": "code",
   "execution_count": 6,
   "id": "001b6044",
   "metadata": {},
   "outputs": [
    {
     "data": {
      "image/png": "[encoded data removed]",
      "text/plain": [
       "<Figure size 700x500 with 1 Axes>"
      ]
     },
     "metadata": {},
     "output_type": "display_data"
    }
   ],
   "source": [
    "cleaned_labels = [label.replace('region_', '').capitalize() for label in average_costs.keys()]\n",
    "\n",
    "import matplotlib.pyplot as plt\n",
    "\n",
    "plt.figure(figsize=(7,5))\n",
    "plt.bar(cleaned_labels, average_costs.values(), color='skyblue')\n",
    "plt.xlabel('Region')\n",
    "plt.ylabel('Average Insurance Cost')\n",
    "plt.title('Average Insurance Cost by Region')\n",
    "plt.xticks(rotation=15)\n",
    "plt.tight_layout()\n",
    "plt.show()"
   ]
  },
  {
   "cell_type": "markdown",
   "id": "df3b1067",
   "metadata": {},
   "source": [
    "Calculate average cost by smoking preference "
   ]
  },
  {
   "cell_type": "code",
   "execution_count": 26,
   "id": "f813d11b",
   "metadata": {},
   "outputs": [],
   "source": [
    "\n",
    "avg_smoker = df[df['smoker_encoded'] == 1]['charges'].mean()\n",
    "\n",
    "\n",
    "avg_nonsmoker = df[df['smoker_encoded'] == 0]['charges'].mean()"
   ]
  },
  {
   "cell_type": "code",
   "execution_count": 27,
   "id": "a0c49c79",
   "metadata": {},
   "outputs": [
    {
     "data": {
      "image/png": "[encoded data removed]",
      "text/plain": [
       "<Figure size 600x400 with 1 Axes>"
      ]
     },
     "metadata": {},
     "output_type": "display_data"
    }
   ],
   "source": [
    "\n",
    "smoker_costs = {\n",
    "    'Smoker': avg_smoker,\n",
    "    'Non-Smoker': avg_nonsmoker\n",
    "}\n",
    "\n",
    "# Plot\n",
    "import matplotlib.pyplot as plt\n",
    "\n",
    "categories = list(smoker_costs.keys())\n",
    "values = list(smoker_costs.values())\n",
    "\n",
    "plt.figure(figsize=(6, 4))\n",
    "plt.bar(categories, values, color=['blue', 'blue'])\n",
    "plt.title('Average Insurance Cost by Smoking Status')\n",
    "plt.ylabel('Average Charges ($)')\n",
    "plt.tight_layout()\n",
    "plt.show()\n",
    "\n",
    "\n",
    "\n",
    "\n",
    "\n"
   ]
  },
  {
   "cell_type": "code",
   "execution_count": 10,
   "id": "437d9e6b",
   "metadata": {},
   "outputs": [
    {
     "name": "stdout",
     "output_type": "stream",
     "text": [
      "Index(['age', 'bmi', 'children', 'charges', 'sex_encoded', 'smoker_encoded',\n",
      "       'region_northeast', 'region_northwest', 'region_southeast',\n",
      "       'region_southwest'],\n",
      "      dtype='object')\n"
     ]
    }
   ],
   "source": [
    "print(df.columns)\n"
   ]
  },
  {
   "cell_type": "code",
   "execution_count": 35,
   "id": "2f8a607f",
   "metadata": {},
   "outputs": [
    {
     "data": {
      "image/png": "[encoded data removed]",
      "text/plain": [
       "<Figure size 640x480 with 1 Axes>"
      ]
     },
     "metadata": {},
     "output_type": "display_data"
    }
   ],
   "source": [
    "df_plot = df.copy()\n",
    "df_plot['smoker_status'] = df_plot['smoker_encoded'].replace({0: 'Non-Smoker', 1: 'Smoker'})\n",
    "\n",
    "sns.boxplot(x='smoker_status', y='charges', data=df_plot)\n",
    "plt.title('Insurance Charges by Smoking Status')\n",
    "plt.xlabel('Smoking Status')\n",
    "plt.ylabel('Charges')\n",
    "plt.tight_layout()\n",
    "plt.show()"
   ]
  },
  {
   "cell_type": "markdown",
   "id": "c60a2a83",
   "metadata": {},
   "source": [
    "The box plot shows a clear difference in insurance charges based on smoking status. Smokers tend to have significantly higher median and overall charges compared to non-smokers. The boxplot shows There are no visible outliers among smokers, there are numerous high-charge outliers among non-smokers. This suggests that factors other than smoking — such as BMI, age and location — may also contribute to elevated insurance costs in the non-smoking group"
   ]
  },
  {
   "cell_type": "code",
   "execution_count": 16,
   "id": "3f76091c",
   "metadata": {},
   "outputs": [
    {
     "data": {
      "application/vnd.plotly.v1+json": {
       "config": {
        "plotlyServerURL": "https://plot.ly"
       },
       "data": [
        {
         "hovertemplate": "Smoker=Smoker<br>Age=%{x}<br>Insurance Charges ($)=%{y}<br>BMI (Scaled)=%{marker.size}<extra></extra>",
         "legendgroup": "Smoker",
         "marker": {
          "color": "#636efa",
          "opacity": 0.6,
          "size": {
           "bdata": "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",
           "dtype": "f8"
          },
          "sizemode": "area",
          "sizeref": 0.03333333333333333,
          "symbol": "circle"
         },
         "mode": "markers",
         "name": "Smoker",
         "showlegend": true,
         "type": "scattergl",
         "x": {
          "bdata": "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",
          "dtype": "f8"
         },
         "xaxis": "x",
         "y": {
          "bdata": "YOXQIjt90ECV1AloLijbQAYSFD94V+NA5/up8a784UCk374OvGjiQAAAAADg5uJAUI2XbjJg4UC8kXnkUf/oQPwYc9fIa+NAO99PjauF50CDwMqhpebiQCGwcmgRBNdACmgibNJt4kBwzojSDzHnQH3Qs1nlv+BAUwWjkjKz1kBiodY037vMQAWjkjrJP9FAz/dT43Ew0EBjf9k9pSXiQFTjpZuQc+NAliGOdaOa1EC8lpAPXkflQIqO5PI7et1AKVyPwmEX50DdJAaBKePVQPT91HhZ5s5A2IFzRow33kCq8dJNGCbRQEaU9gbx+eZA/mX35PGo0kD8qfHSj1DjQOxRuB5FrtBA0NVW7Iv330DhehSuH4fSQB4Wak1/QtRAD5wzohHi40BAE2HDL3/TQKmkTkDrudRAjZduEhdPzkAc6+I2yAriQL6fGi8t2dRA9P3UeK+m4UBmZmZmDtfnQOQUHckqXeVAKe0Nvrwh4kC62or9BX7UQOF6FK5z++BA4QuTqeIO00DSAN4CEf3SQN4CCYor8tBAApoIG/TN4kAOvjCZytTcQDSAt0C6DslAKVyPwikZ50DpSC7/l5zlQARWDi0lEeRAidLe4CVy5UAf9GxWyXrgQBrAWyBRr9BAU5YhjnVJ2EBFR3L5bK/hQIts5/vjiOZAIbByaOHG0EBCYOXQGu3kQNiBc0bkztVAKA8LtaW050A2PL1SGWPnQN4CCYoHkORANV66SezUz0CqYFRSq3bVQNqs+lxL6+JAD5wzolhK2ED0bFZ9kJHkQC2yne/bAuFArkfhenRU4UACvAUSEOHkQFyPwvUAZ+dAGCZTBbKw50BCz2bVZ9LXQHe+nxrjd+RA46WbxEAKy0C6SQwCp57hQHPXEvJ9nNFAgSbChvsm1UDP91Pjx53iQNXnaitKT81AvsEXJvan5EDNO07RsyLTQH/7OnDSO8xA46WbxBAs0kDSb18HnkXcQDcawFso5eZA3EYDeOPA5kCDwMqhqhrjQESLbOfrGuJAMLsnD1V/2UBeukkMAqDVQP8h/fZ9ENNAukkMApPJ2ED0bFZ9KjHcQJPjTulwKeFAYMjqVqTe50BYObTIhoXRQH0/NV62rOFAlIeFWoey1UASg8DKFcnfQNejcD2KltRA9l0R/LKs4kAkl/+QcMTnQAwHQrJNI+9A24r9Zc8/10D2KFyP5mTmQPfkYaHtheNA4lgXt8BQ5kCH4SNiYpnsQAHeAgn8dOVAN4lBYI3/zUCitDf4Pg/RQOXyH9KxE9lAGy/dJC4p40CqglFJO/vkQLpJDAKjwtZAlWWIY/vQ4EBaZDvfx57jQCzUmuY65+BAJzEIrO785ED4wmSqVK3TQInvxKxuAuBAQmDl0NoW2EBSSZ2AemfaQIY41sUNyORAg8DKoWqI40APC7WmxlHmQGlv8IUfj+ZAK4cW2VCG5kCuR+F6/JTjQIv9ZffO/uBAsp3vpzSq40CjkjoBDa7lQLTIdr6N/ONAoWez6m1E0EDQ1Vbsf+jSQGuad5xgvONAwFsgQaOr4UCnrnyWLsXlQMuhRbaf0dFArK3YX80e5UA730+NzxTTQFuxv+xahtZADXGsi3m64UDTTWIQOJjSQE+vlGUgVdFA/Knx0s3U0UCJQWDlEPLXQAisHFr0stRAaJHtfK/h0UBX7C+7IXzRQERpb/AV8eJAsHJokVPa1kAC2evd7OvqQOJYF7e7ZOVABFYOLWhJ1EBeS8gHrVXjQDcawFugluFAIR/0bHrj2kBqvHSTHvrlQOVhodbEMuJANe84RfWP5EB+HThnuorXQGRd3EbFAeRA1edqK/7kzkAIrBxaMITmQJqZmZnjleZAIv32dexB00CLbOf7m5TaQET67eu+pNxAFYxK6lSV5UCASL99g1XTQKCJsOExxOdAJQaBlRMW0UBFR3L5lXjgQJoIG56UQ9VA9l0R/Ksf4UDsUbge6RDjQGQ7309dd9NAVOOlm9ws50D0/dR40QrjQMe6uI1oitNAPQrXo/CB5EDrc7UVRwnkQK8l5IPYZ9dA9bnaimGFz0Db+X5q/L/SQKMBvAXydcxADwu1ph8J0EBeS8gHcfTQQP7UeOka1eBA1QloIs5U2ECRD3o271PSQOY/pN9yYeFACmgibGSc5EDvycNCuRDQQAN4CyRSK9VAVg4tsvmw5UBVMCqp79nKQMNkqmCOTeJA9pfdk7Bl40AQWDm0tsLTQL7BFyZ6WOBArkfhejRe1UAp7Q2+rLrlQPhT46XzZeNA8KfGS1+32EDQ1VbsR+nnQFInoIn2d+NAP8bctQTu4EA9Ctej0JPSQPcGX5iCWeRAx0s3iXGO4EAHzhlRJszlQJYhjnUTYtBAn82qz6d75EC0yHa+O53XQDcawFuSo+FAi2zn+1ex4kD6fmq8yK7gQHgLJCiuyOZA8tJNYgb540ArMGR1VwTiQLTlXIrarelASS7/Ian940CJ0t7gV2XjQLMMcayrxtBAZmZmZqbz1UDEQq1p6lPXQOC+DpyX5dJAS8gHPQ/m0UAAAAAAK0viQFtCPujVQtVAVFInoHFD4ED99nXg3MvRQEoMAivvweJA78nDQjfS00AGgZVDs1fkQJWCbi9rg9lAw7tcxKxO7UAe+YOB1bHTQNnO91O7FOdAHHxhMjU16EBDHOvi8FziQC7/If0aNtJA2/l+amy0z0BE+u3roEvaQCgPC7XBueBAt2J/2dWk0EDNzMzMgu/VQCgPC7Xs9ddA5IOezbrly0CPwvUofCXnQDEIrBwSueJAc2iR7ZQB4UCPcFrwG5DuQGIQWDnFz+ZAeHqlLLd44kBhMlUw2MLUQNEi2/mmec9AVcGopB741ECJQWDllI3gQFCNl26yxeFA0m9fB3hT0kB88rBQVXHbQDBMpgoMb+VAMLsnD1d13EA=",
          "dtype": "f8"
         },
         "yaxis": "y"
        },
        {
         "hovertemplate": "Smoker=Non-Smoker<br>Age=%{x}<br>Insurance Charges ($)=%{y}<br>BMI (Scaled)=%{marker.size}<extra></extra>",
         "legendgroup": "Non-Smoker",
         "marker": {
          "color": "#EF553B",
          "opacity": 0.6,
          "size": {
           "bdata": "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",
           "dtype": "f8"
          },
          "sizemode": "area",
          "sizeref": 0.03333333333333333,
          "symbol": "diamond"
         },
         "mode": "markers",
         "name": "Non-Smoker",
         "showlegend": true,
         "type": "scattergl",
         "x": {
          "bdata": "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",
          "dtype": "f8"
         },
         "xaxis": "x",
         "y": {
          "bdata": "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",
          "dtype": "f8"
         },
         "yaxis": "y"
        }
       ],
       "layout": {
        "legend": {
         "itemsizing": "constant",
         "title": {
          "text": "Smoker"
         },
         "tracegroupgap": 0
        },
        "template": {
         "data": {
          "bar": [
           {
            "error_x": {
             "color": "#2a3f5f"
            },
            "error_y": {
             "color": "#2a3f5f"
            },
            "marker": {
             "line": {
              "color": "white",
              "width": 0.5
             },
             "pattern": {
              "fillmode": "overlay",
              "size": 10,
              "solidity": 0.2
             }
            },
            "type": "bar"
           }
          ],
          "barpolar": [
           {
            "marker": {
             "line": {
              "color": "white",
              "width": 0.5
             },
             "pattern": {
              "fillmode": "overlay",
              "size": 10,
              "solidity": 0.2
             }
            },
            "type": "barpolar"
           }
          ],
          "carpet": [
           {
            "aaxis": {
             "endlinecolor": "#2a3f5f",
             "gridcolor": "#C8D4E3",
             "linecolor": "#C8D4E3",
             "minorgridcolor": "#C8D4E3",
             "startlinecolor": "#2a3f5f"
            },
            "baxis": {
             "endlinecolor": "#2a3f5f",
             "gridcolor": "#C8D4E3",
             "linecolor": "#C8D4E3",
             "minorgridcolor": "#C8D4E3",
             "startlinecolor": "#2a3f5f"
            },
            "type": "carpet"
           }
          ],
          "choropleth": [
           {
            "colorbar": {
             "outlinewidth": 0,
             "ticks": ""
            },
            "type": "choropleth"
           }
          ],
          "contour": [
           {
            "colorbar": {
             "outlinewidth": 0,
             "ticks": ""
            },
            "colorscale": [
             [
              0,
              "#0d0887"
             ],
             [
              0.1111111111111111,
              "#46039f"
             ],
             [
              0.2222222222222222,
              "#7201a8"
             ],
             [
              0.3333333333333333,
              "#9c179e"
             ],
             [
              0.4444444444444444,
              "#bd3786"
             ],
             [
              0.5555555555555556,
              "#d8576b"
             ],
             [
              0.6666666666666666,
              "#ed7953"
             ],
             [
              0.7777777777777778,
              "#fb9f3a"
             ],
             [
              0.8888888888888888,
              "#fdca26"
             ],
             [
              1,
              "#f0f921"
             ]
            ],
            "type": "contour"
           }
          ],
          "contourcarpet": [
           {
            "colorbar": {
             "outlinewidth": 0,
             "ticks": ""
            },
            "type": "contourcarpet"
           }
          ],
          "heatmap": [
           {
            "colorbar": {
             "outlinewidth": 0,
             "ticks": ""
            },
            "colorscale": [
             [
              0,
              "#0d0887"
             ],
             [
              0.1111111111111111,
              "#46039f"
             ],
             [
              0.2222222222222222,
              "#7201a8"
             ],
             [
              0.3333333333333333,
              "#9c179e"
             ],
             [
              0.4444444444444444,
              "#bd3786"
             ],
             [
              0.5555555555555556,
              "#d8576b"
             ],
             [
              0.6666666666666666,
              "#ed7953"
             ],
             [
              0.7777777777777778,
              "#fb9f3a"
             ],
             [
              0.8888888888888888,
              "#fdca26"
             ],
             [
              1,
              "#f0f921"
             ]
            ],
            "type": "heatmap"
           }
          ],
          "histogram": [
           {
            "marker": {
             "pattern": {
              "fillmode": "overlay",
              "size": 10,
              "solidity": 0.2
             }
            },
            "type": "histogram"
           }
          ],
          "histogram2d": [
           {
            "colorbar": {
             "outlinewidth": 0,
             "ticks": ""
            },
            "colorscale": [
             [
              0,
              "#0d0887"
             ],
             [
              0.1111111111111111,
              "#46039f"
             ],
             [
              0.2222222222222222,
              "#7201a8"
             ],
             [
              0.3333333333333333,
              "#9c179e"
             ],
             [
              0.4444444444444444,
              "#bd3786"
             ],
             [
              0.5555555555555556,
              "#d8576b"
             ],
             [
              0.6666666666666666,
              "#ed7953"
             ],
             [
              0.7777777777777778,
              "#fb9f3a"
             ],
             [
              0.8888888888888888,
              "#fdca26"
             ],
             [
              1,
              "#f0f921"
             ]
            ],
            "type": "histogram2d"
           }
          ],
          "histogram2dcontour": [
           {
            "colorbar": {
             "outlinewidth": 0,
             "ticks": ""
            },
            "colorscale": [
             [
              0,
              "#0d0887"
             ],
             [
              0.1111111111111111,
              "#46039f"
             ],
             [
              0.2222222222222222,
              "#7201a8"
             ],
             [
              0.3333333333333333,
              "#9c179e"
             ],
             [
              0.4444444444444444,
              "#bd3786"
             ],
             [
              0.5555555555555556,
              "#d8576b"
             ],
             [
              0.6666666666666666,
              "#ed7953"
             ],
             [
              0.7777777777777778,
              "#fb9f3a"
             ],
             [
              0.8888888888888888,
              "#fdca26"
             ],
             [
              1,
              "#f0f921"
             ]
            ],
            "type": "histogram2dcontour"
           }
          ],
          "mesh3d": [
           {
            "colorbar": {
             "outlinewidth": 0,
             "ticks": ""
            },
            "type": "mesh3d"
           }
          ],
          "parcoords": [
           {
            "line": {
             "colorbar": {
              "outlinewidth": 0,
              "ticks": ""
             }
            },
            "type": "parcoords"
           }
          ],
          "pie": [
           {
            "automargin": true,
            "type": "pie"
           }
          ],
          "scatter": [
           {
            "fillpattern": {
             "fillmode": "overlay",
             "size": 10,
             "solidity": 0.2
            },
            "type": "scatter"
           }
          ],
          "scatter3d": [
           {
            "line": {
             "colorbar": {
              "outlinewidth": 0,
              "ticks": ""
             }
            },
            "marker": {
             "colorbar": {
              "outlinewidth": 0,
              "ticks": ""
             }
            },
            "type": "scatter3d"
           }
          ],
          "scattercarpet": [
           {
            "marker": {
             "colorbar": {
              "outlinewidth": 0,
              "ticks": ""
             }
            },
            "type": "scattercarpet"
           }
          ],
          "scattergeo": [
           {
            "marker": {
             "colorbar": {
              "outlinewidth": 0,
              "ticks": ""
             }
            },
            "type": "scattergeo"
           }
          ],
          "scattergl": [
           {
            "marker": {
             "colorbar": {
              "outlinewidth": 0,
              "ticks": ""
             }
            },
            "type": "scattergl"
           }
          ],
          "scattermap": [
           {
            "marker": {
             "colorbar": {
              "outlinewidth": 0,
              "ticks": ""
             }
            },
            "type": "scattermap"
           }
          ],
          "scattermapbox": [
           {
            "marker": {
             "colorbar": {
              "outlinewidth": 0,
              "ticks": ""
             }
            },
            "type": "scattermapbox"
           }
          ],
          "scatterpolar": [
           {
            "marker": {
             "colorbar": {
              "outlinewidth": 0,
              "ticks": ""
             }
            },
            "type": "scatterpolar"
           }
          ],
          "scatterpolargl": [
           {
            "marker": {
             "colorbar": {
              "outlinewidth": 0,
              "ticks": ""
             }
            },
            "type": "scatterpolargl"
           }
          ],
          "scatterternary": [
           {
            "marker": {
             "colorbar": {
              "outlinewidth": 0,
              "ticks": ""
             }
            },
            "type": "scatterternary"
           }
          ],
          "surface": [
           {
            "colorbar": {
             "outlinewidth": 0,
             "ticks": ""
            },
            "colorscale": [
             [
              0,
              "#0d0887"
             ],
             [
              0.1111111111111111,
              "#46039f"
             ],
             [
              0.2222222222222222,
              "#7201a8"
             ],
             [
              0.3333333333333333,
              "#9c179e"
             ],
             [
              0.4444444444444444,
              "#bd3786"
             ],
             [
              0.5555555555555556,
              "#d8576b"
             ],
             [
              0.6666666666666666,
              "#ed7953"
             ],
             [
              0.7777777777777778,
              "#fb9f3a"
             ],
             [
              0.8888888888888888,
              "#fdca26"
             ],
             [
              1,
              "#f0f921"
             ]
            ],
            "type": "surface"
           }
          ],
          "table": [
           {
            "cells": {
             "fill": {
              "color": "#EBF0F8"
             },
             "line": {
              "color": "white"
             }
            },
            "header": {
             "fill": {
              "color": "#C8D4E3"
             },
             "line": {
              "color": "white"
             }
            },
            "type": "table"
           }
          ]
         },
         "layout": {
          "annotationdefaults": {
           "arrowcolor": "#2a3f5f",
           "arrowhead": 0,
           "arrowwidth": 1
          },
          "autotypenumbers": "strict",
          "coloraxis": {
           "colorbar": {
            "outlinewidth": 0,
            "ticks": ""
           }
          },
          "colorscale": {
           "diverging": [
            [
             0,
             "#8e0152"
            ],
            [
             0.1,
             "#c51b7d"
            ],
            [
             0.2,
             "#de77ae"
            ],
            [
             0.3,
             "#f1b6da"
            ],
            [
             0.4,
             "#fde0ef"
            ],
            [
             0.5,
             "#f7f7f7"
            ],
            [
             0.6,
             "#e6f5d0"
            ],
            [
             0.7,
             "#b8e186"
            ],
            [
             0.8,
             "#7fbc41"
            ],
            [
             0.9,
             "#4d9221"
            ],
            [
             1,
             "#276419"
            ]
           ],
           "sequential": [
            [
             0,
             "#0d0887"
            ],
            [
             0.1111111111111111,
             "#46039f"
            ],
            [
             0.2222222222222222,
             "#7201a8"
            ],
            [
             0.3333333333333333,
             "#9c179e"
            ],
            [
             0.4444444444444444,
             "#bd3786"
            ],
            [
             0.5555555555555556,
             "#d8576b"
            ],
            [
             0.6666666666666666,
             "#ed7953"
            ],
            [
             0.7777777777777778,
             "#fb9f3a"
            ],
            [
             0.8888888888888888,
             "#fdca26"
            ],
            [
             1,
             "#f0f921"
            ]
           ],
           "sequentialminus": [
            [
             0,
             "#0d0887"
            ],
            [
             0.1111111111111111,
             "#46039f"
            ],
            [
             0.2222222222222222,
             "#7201a8"
            ],
            [
             0.3333333333333333,
             "#9c179e"
            ],
            [
             0.4444444444444444,
             "#bd3786"
            ],
            [
             0.5555555555555556,
             "#d8576b"
            ],
            [
             0.6666666666666666,
             "#ed7953"
            ],
            [
             0.7777777777777778,
             "#fb9f3a"
            ],
            [
             0.8888888888888888,
             "#fdca26"
            ],
            [
             1,
             "#f0f921"
            ]
           ]
          },
          "colorway": [
           "#636efa",
           "#EF553B",
           "#00cc96",
           "#ab63fa",
           "#FFA15A",
           "#19d3f3",
           "#FF6692",
           "#B6E880",
           "#FF97FF",
           "#FECB52"
          ],
          "font": {
           "color": "#2a3f5f"
          },
          "geo": {
           "bgcolor": "white",
           "lakecolor": "white",
           "landcolor": "white",
           "showlakes": true,
           "showland": true,
           "subunitcolor": "#C8D4E3"
          },
          "hoverlabel": {
           "align": "left"
          },
          "hovermode": "closest",
          "mapbox": {
           "style": "light"
          },
          "paper_bgcolor": "white",
          "plot_bgcolor": "white",
          "polar": {
           "angularaxis": {
            "gridcolor": "#EBF0F8",
            "linecolor": "#EBF0F8",
            "ticks": ""
           },
           "bgcolor": "white",
           "radialaxis": {
            "gridcolor": "#EBF0F8",
            "linecolor": "#EBF0F8",
            "ticks": ""
           }
          },
          "scene": {
           "xaxis": {
            "backgroundcolor": "white",
            "gridcolor": "#DFE8F3",
            "gridwidth": 2,
            "linecolor": "#EBF0F8",
            "showbackground": true,
            "ticks": "",
            "zerolinecolor": "#EBF0F8"
           },
           "yaxis": {
            "backgroundcolor": "white",
            "gridcolor": "#DFE8F3",
            "gridwidth": 2,
            "linecolor": "#EBF0F8",
            "showbackground": true,
            "ticks": "",
            "zerolinecolor": "#EBF0F8"
           },
           "zaxis": {
            "backgroundcolor": "white",
            "gridcolor": "#DFE8F3",
            "gridwidth": 2,
            "linecolor": "#EBF0F8",
            "showbackground": true,
            "ticks": "",
            "zerolinecolor": "#EBF0F8"
           }
          },
          "shapedefaults": {
           "line": {
            "color": "#2a3f5f"
           }
          },
          "ternary": {
           "aaxis": {
            "gridcolor": "#DFE8F3",
            "linecolor": "#A2B1C6",
            "ticks": ""
           },
           "baxis": {
            "gridcolor": "#DFE8F3",
            "linecolor": "#A2B1C6",
            "ticks": ""
           },
           "bgcolor": "white",
           "caxis": {
            "gridcolor": "#DFE8F3",
            "linecolor": "#A2B1C6",
            "ticks": ""
           }
          },
          "title": {
           "x": 0.05
          },
          "xaxis": {
           "automargin": true,
           "gridcolor": "#EBF0F8",
           "linecolor": "#EBF0F8",
           "ticks": "",
           "title": {
            "standoff": 15
           },
           "zerolinecolor": "#EBF0F8",
           "zerolinewidth": 2
          },
          "yaxis": {
           "automargin": true,
           "gridcolor": "#EBF0F8",
           "linecolor": "#EBF0F8",
           "ticks": "",
           "title": {
            "standoff": 15
           },
           "zerolinecolor": "#EBF0F8",
           "zerolinewidth": 2
          }
         }
        },
        "title": {
         "text": "Insurance Charges by Age, BMI & Smoking Status"
        },
        "xaxis": {
         "anchor": "y",
         "domain": [
          0,
          1
         ],
         "title": {
          "text": "Age"
         }
        },
        "yaxis": {
         "anchor": "x",
         "domain": [
          0,
          1
         ],
         "title": {
          "text": "Insurance Charges ($)"
         }
        }
       }
      }
     },
     "metadata": {},
     "output_type": "display_data"
    }
   ],
   "source": [
    "\n",
    "df['bmi_scaled'] = df['bmi'] / df['bmi'].max() * 30  # Adjust size range\n",
    "df['smoker_status'] = df['smoker_encoded'].map({0: 'Non-Smoker', 1: 'Smoker'})\n",
    "df['age_jittered'] = df['age'] + np.random.uniform(-0.5, 0.5, size=len(df))\n",
    "\n",
    "fig = px.scatter(\n",
    "    df,\n",
    "    x='age_jittered',\n",
    "    y='charges',\n",
    "    size='bmi_scaled',\n",
    "    color='smoker_status',\n",
    "    symbol='smoker_status',\n",
    "    size_max=30,\n",
    "    opacity=0.6,\n",
    "    title='Insurance Charges by Age, BMI & Smoking Status',\n",
    "    labels={\n",
    "        'age_jittered': 'Age',\n",
    "        'charges': 'Insurance Charges ($)',\n",
    "        'bmi_scaled': 'BMI (Scaled)',\n",
    "        'smoker_status': 'Smoker'\n",
    "    }\n",
    ")\n",
    "\n",
    "fig.update_layout(\n",
    "    xaxis=dict(title='Age'),\n",
    "    yaxis=dict(title='Insurance Charges ($)'),\n",
    "    template='plotly_white'\n",
    ")\n",
    "\n",
    "fig.show()\n"
   ]
  },
  {
   "cell_type": "code",
   "execution_count": null,
   "id": "c95eb5c7",
   "metadata": {},
   "outputs": [],
   "source": []
  }
 ],
 "metadata": {
  "kernelspec": {
   "display_name": "venv",
   "language": "python",
   "name": "python3"
  },
  "language_info": {
   "codemirror_mode": {
    "name": "ipython",
    "version": 3
   },
   "file_extension": ".py",
   "mimetype": "text/x-python",
   "name": "python",
   "nbconvert_exporter": "python",
   "pygments_lexer": "ipython3",
   "version": "3.12.8"
  }
 },
 "nbformat": 4,
 "nbformat_minor": 5
}
