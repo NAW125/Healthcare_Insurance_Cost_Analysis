{
 "cells": [
  {
   "cell_type": "markdown",
   "id": "83abd4be",
   "metadata": {},
   "source": [
    "## 2. Tranformation "
   ]
  },
  {
   "cell_type": "code",
   "execution_count": 1,
   "id": "cc82e2e3",
   "metadata": {},
   "outputs": [],
   "source": [
    "import numpy as np\n",
    "import pandas as pd\n"
   ]
  },
  {
   "cell_type": "markdown",
   "id": "f8eac371",
   "metadata": {},
   "source": [
    "New cleaned file now in use. Columns in the data will be encoded moving from category data to integers to allow for further analysis of the data set. "
   ]
  },
  {
   "cell_type": "code",
   "execution_count": 3,
   "id": "031a2f1d",
   "metadata": {},
   "outputs": [
    {
     "data": {
      "text/html": [
       "<div>\n",
       "<style scoped>\n",
       "    .dataframe tbody tr th:only-of-type {\n",
       "        vertical-align: middle;\n",
       "    }\n",
       "\n",
       "    .dataframe tbody tr th {\n",
       "        vertical-align: top;\n",
       "    }\n",
       "\n",
       "    .dataframe thead th {\n",
       "        text-align: right;\n",
       "    }\n",
       "</style>\n",
       "<table border=\"1\" class=\"dataframe\">\n",
       "  <thead>\n",
       "    <tr style=\"text-align: right;\">\n",
       "      <th></th>\n",
       "      <th>age</th>\n",
       "      <th>sex</th>\n",
       "      <th>bmi</th>\n",
       "      <th>children</th>\n",
       "      <th>smoker</th>\n",
       "      <th>region</th>\n",
       "      <th>charges</th>\n",
       "    </tr>\n",
       "  </thead>\n",
       "  <tbody>\n",
       "    <tr>\n",
       "      <th>227</th>\n",
       "      <td>58</td>\n",
       "      <td>female</td>\n",
       "      <td>41.910</td>\n",
       "      <td>0</td>\n",
       "      <td>no</td>\n",
       "      <td>southeast</td>\n",
       "      <td>24227.33724</td>\n",
       "    </tr>\n",
       "    <tr>\n",
       "      <th>1326</th>\n",
       "      <td>51</td>\n",
       "      <td>male</td>\n",
       "      <td>30.030</td>\n",
       "      <td>1</td>\n",
       "      <td>no</td>\n",
       "      <td>southeast</td>\n",
       "      <td>9377.90470</td>\n",
       "    </tr>\n",
       "    <tr>\n",
       "      <th>1022</th>\n",
       "      <td>18</td>\n",
       "      <td>male</td>\n",
       "      <td>23.320</td>\n",
       "      <td>1</td>\n",
       "      <td>no</td>\n",
       "      <td>southeast</td>\n",
       "      <td>1711.02680</td>\n",
       "    </tr>\n",
       "    <tr>\n",
       "      <th>1210</th>\n",
       "      <td>39</td>\n",
       "      <td>male</td>\n",
       "      <td>34.100</td>\n",
       "      <td>2</td>\n",
       "      <td>no</td>\n",
       "      <td>southeast</td>\n",
       "      <td>23563.01618</td>\n",
       "    </tr>\n",
       "    <tr>\n",
       "      <th>367</th>\n",
       "      <td>42</td>\n",
       "      <td>female</td>\n",
       "      <td>24.985</td>\n",
       "      <td>2</td>\n",
       "      <td>no</td>\n",
       "      <td>northwest</td>\n",
       "      <td>8017.06115</td>\n",
       "    </tr>\n",
       "  </tbody>\n",
       "</table>\n",
       "</div>"
      ],
      "text/plain": [
       "      age     sex     bmi  children smoker     region      charges\n",
       "227    58  female  41.910         0     no  southeast  24227.33724\n",
       "1326   51    male  30.030         1     no  southeast   9377.90470\n",
       "1022   18    male  23.320         1     no  southeast   1711.02680\n",
       "1210   39    male  34.100         2     no  southeast  23563.01618\n",
       "367    42  female  24.985         2     no  northwest   8017.06115"
      ]
     },
     "execution_count": 3,
     "metadata": {},
     "output_type": "execute_result"
    }
   ],
   "source": [
    "\n",
    "\n",
    "df = pd.read_csv('/Users/nataliewaugh/Documents/DataCode/Healthcare-Insurance-Cost-Analysis/jupyter_notebooks/data_raw/insurance_cleaned.csv')\n",
    "df.sample(5)"
   ]
  },
  {
   "cell_type": "code",
   "execution_count": 4,
   "id": "f82f3cc3",
   "metadata": {},
   "outputs": [
    {
     "data": {
      "text/plain": [
       "region\n",
       "southeast    364\n",
       "southwest    325\n",
       "northwest    324\n",
       "northeast    324\n",
       "Name: count, dtype: int64"
      ]
     },
     "execution_count": 4,
     "metadata": {},
     "output_type": "execute_result"
    }
   ],
   "source": [
    "df['region'].value_counts()"
   ]
  },
  {
   "cell_type": "markdown",
   "id": "2f39e61f",
   "metadata": {},
   "source": [
    "Checking the data types in the data to ensure the data can be analysed. "
   ]
  },
  {
   "cell_type": "code",
   "execution_count": 20,
   "id": "72d4e73b",
   "metadata": {},
   "outputs": [
    {
     "data": {
      "text/plain": [
       "age           int64\n",
       "sex          object\n",
       "bmi         float64\n",
       "children      int64\n",
       "smoker       object\n",
       "region       object\n",
       "charges     float64\n",
       "dtype: object"
      ]
     },
     "execution_count": 20,
     "metadata": {},
     "output_type": "execute_result"
    }
   ],
   "source": [
    "df.dtypes\n"
   ]
  },
  {
   "cell_type": "markdown",
   "id": "b2394e34",
   "metadata": {},
   "source": [
    "The Smoker and Region columns are of type object, which  indicates categorical data in pandas. These need to be encoded (e.g., using label encoding or one-hot encoding) to convert them into a numerical format suitable for analysis and machine learning models."
   ]
  },
  {
   "cell_type": "code",
   "execution_count": 5,
   "id": "b8e0cd16",
   "metadata": {},
   "outputs": [
    {
     "data": {
      "text/plain": [
       "Index(['age', 'sex', 'bmi', 'children', 'smoker', 'region', 'charges'], dtype='object')"
      ]
     },
     "execution_count": 5,
     "metadata": {},
     "output_type": "execute_result"
    }
   ],
   "source": [
    "df.columns"
   ]
  },
  {
   "cell_type": "code",
   "execution_count": 6,
   "id": "27fd7b1d",
   "metadata": {},
   "outputs": [],
   "source": [
    "df['sex_encoded'] = df['sex'].map({'male': 0, 'female': 1})\n",
    "df['smoker_encoded'] = df['smoker'].map({'no': 0, 'yes': 1})"
   ]
  },
  {
   "cell_type": "markdown",
   "id": "f90fe028",
   "metadata": {},
   "source": [
    "Sex and smoker columns are encoded.\n",
    "Sex - Male = 0 and Female = 1\n",
    "Smokers - Non smokers = 0 and smokers = 1 "
   ]
  },
  {
   "cell_type": "code",
   "execution_count": 7,
   "id": "7701f7e3",
   "metadata": {},
   "outputs": [],
   "source": [
    "region_encoded = pd.get_dummies(df[\"region\"], prefix=\"region\")\n",
    "df = pd.concat([df, region_encoded], axis=1)"
   ]
  },
  {
   "cell_type": "code",
   "execution_count": 8,
   "id": "23370da6",
   "metadata": {},
   "outputs": [],
   "source": [
    "df[['region_northeast', 'region_northwest', 'region_southeast', 'region_southwest']] = \\\n",
    "    df[['region_northeast', 'region_northwest', 'region_southeast', 'region_southwest']].astype(int)"
   ]
  },
  {
   "cell_type": "code",
   "execution_count": 31,
   "id": "5c1b5f33",
   "metadata": {},
   "outputs": [
    {
     "data": {
      "text/plain": [
       "age                   int64\n",
       "sex                  object\n",
       "bmi                 float64\n",
       "children              int64\n",
       "smoker               object\n",
       "region               object\n",
       "charges             float64\n",
       "sex_encoded           int64\n",
       "smoker_encoded        int64\n",
       "region_northeast      int64\n",
       "region_northwest      int64\n",
       "region_southeast      int64\n",
       "region_southwest      int64\n",
       "dtype: object"
      ]
     },
     "execution_count": 31,
     "metadata": {},
     "output_type": "execute_result"
    }
   ],
   "source": [
    "df.dtypes"
   ]
  },
  {
   "cell_type": "markdown",
   "id": "a8bdf7a8",
   "metadata": {},
   "source": [
    "The data transformations are complete. The categorical data has been changed to integers to allow for analysis. \n"
   ]
  },
  {
   "cell_type": "code",
   "execution_count": 9,
   "id": "451b430b",
   "metadata": {},
   "outputs": [],
   "source": [
    "df = df.drop(['sex', 'smoker', 'region'], axis=1)"
   ]
  },
  {
   "cell_type": "markdown",
   "id": "b1eda3eb",
   "metadata": {},
   "source": [
    "Dropping old categorial column, as they are no longer needed. Previous data file contains this information "
   ]
  },
  {
   "cell_type": "code",
   "execution_count": 10,
   "id": "5a22a0dc",
   "metadata": {},
   "outputs": [
    {
     "data": {
      "text/plain": [
       "age                   int64\n",
       "bmi                 float64\n",
       "children              int64\n",
       "charges             float64\n",
       "sex_encoded           int64\n",
       "smoker_encoded        int64\n",
       "region_northeast      int64\n",
       "region_northwest      int64\n",
       "region_southeast      int64\n",
       "region_southwest      int64\n",
       "dtype: object"
      ]
     },
     "execution_count": 10,
     "metadata": {},
     "output_type": "execute_result"
    }
   ],
   "source": [
    "df.dtypes"
   ]
  },
  {
   "cell_type": "markdown",
   "id": "ad8fbcea",
   "metadata": {},
   "source": [
    "Final check of the data to ensure no errors \n"
   ]
  },
  {
   "cell_type": "code",
   "execution_count": 11,
   "id": "6cf981f5",
   "metadata": {},
   "outputs": [
    {
     "name": "stdout",
     "output_type": "stream",
     "text": [
      "age                 0\n",
      "bmi                 0\n",
      "children            0\n",
      "charges             0\n",
      "sex_encoded         0\n",
      "smoker_encoded      0\n",
      "region_northeast    0\n",
      "region_northwest    0\n",
      "region_southeast    0\n",
      "region_southwest    0\n",
      "dtype: int64\n"
     ]
    }
   ],
   "source": [
    "print(df.isnull().sum())"
   ]
  },
  {
   "cell_type": "code",
   "execution_count": 12,
   "id": "751026a1",
   "metadata": {},
   "outputs": [
    {
     "name": "stdout",
     "output_type": "stream",
     "text": [
      "Missing Values:\n",
      " age                 0\n",
      "bmi                 0\n",
      "children            0\n",
      "charges             0\n",
      "sex_encoded         0\n",
      "smoker_encoded      0\n",
      "region_northeast    0\n",
      "region_northwest    0\n",
      "region_southeast    0\n",
      "region_southwest    0\n",
      "dtype: int64 \n",
      "\n",
      "Duplicate Rows: 0 \n",
      "\n",
      "Data Types:\n",
      " age                   int64\n",
      "bmi                 float64\n",
      "children              int64\n",
      "charges             float64\n",
      "sex_encoded           int64\n",
      "smoker_encoded        int64\n",
      "region_northeast      int64\n",
      "region_northwest      int64\n",
      "region_southeast      int64\n",
      "region_southwest      int64\n",
      "dtype: object \n",
      "\n",
      "Unique Encoded Values:\n",
      "  sex_encoded: [1 0]\n",
      "  smoker_encoded: [1 0] \n",
      "\n",
      "Region Columns (One-Hot) Sums:\n",
      "region_northeast    324\n",
      "region_northwest    324\n",
      "region_southeast    364\n",
      "region_southwest    325\n",
      "dtype: int64 \n",
      "\n",
      "Statistical Summary:\n",
      "                age          bmi     children       charges  sex_encoded  \\\n",
      "count  1337.000000  1337.000000  1337.000000   1337.000000  1337.000000   \n",
      "mean     39.222139    30.663452     1.095737  13279.121487     0.495138   \n",
      "std      14.044333     6.100468     1.205571  12110.359656     0.500163   \n",
      "min      18.000000    15.960000     0.000000   1121.873900     0.000000   \n",
      "25%      27.000000    26.290000     0.000000   4746.344000     0.000000   \n",
      "50%      39.000000    30.400000     1.000000   9386.161300     0.000000   \n",
      "75%      51.000000    34.700000     2.000000  16657.717450     1.000000   \n",
      "max      64.000000    53.130000     5.000000  63770.428010     1.000000   \n",
      "\n",
      "       smoker_encoded  region_northeast  region_northwest  region_southeast  \\\n",
      "count     1337.000000       1337.000000       1337.000000       1337.000000   \n",
      "mean         0.204936          0.242334          0.242334          0.272251   \n",
      "std          0.403806          0.428655          0.428655          0.445285   \n",
      "min          0.000000          0.000000          0.000000          0.000000   \n",
      "25%          0.000000          0.000000          0.000000          0.000000   \n",
      "50%          0.000000          0.000000          0.000000          0.000000   \n",
      "75%          0.000000          0.000000          0.000000          1.000000   \n",
      "max          1.000000          1.000000          1.000000          1.000000   \n",
      "\n",
      "       region_southwest  \n",
      "count       1337.000000  \n",
      "mean           0.243082  \n",
      "std            0.429104  \n",
      "min            0.000000  \n",
      "25%            0.000000  \n",
      "50%            0.000000  \n",
      "75%            0.000000  \n",
      "max            1.000000   \n",
      "\n",
      "Data Shape: (1337, 10)\n"
     ]
    }
   ],
   "source": [
    "print(\"Missing Values:\\n\", df.isnull().sum(), \"\\n\")\n",
    "print(\"Duplicate Rows:\", df.duplicated().sum(), \"\\n\")\n",
    "print(\"Data Types:\\n\", df.dtypes, \"\\n\")\n",
    "print(\"Unique Encoded Values:\")\n",
    "print(\"  sex_encoded:\", df['sex_encoded'].unique())\n",
    "print(\"  smoker_encoded:\", df['smoker_encoded'].unique(), \"\\n\")\n",
    "print(\"Region Columns (One-Hot) Sums:\")\n",
    "print(df[['region_northeast', 'region_northwest', 'region_southeast', 'region_southwest']].sum(), \"\\n\")\n",
    "print(\"Statistical Summary:\\n\", df.describe(), \"\\n\")\n",
    "print(\"Data Shape:\", df.shape)"
   ]
  },
  {
   "cell_type": "markdown",
   "id": "52dbbf43",
   "metadata": {},
   "source": [
    "Final check to ensure there are no errors in the data, saved to a new file."
   ]
  },
  {
   "cell_type": "code",
   "execution_count": 13,
   "id": "2b81b4d9",
   "metadata": {},
   "outputs": [],
   "source": [
    "df.to_csv('/Users/nataliewaugh/Documents/DataCode/Healthcare-Insurance-Cost-Analysis/jupyter_notebooks/data_raw/insurance_transformed.csv', index=False)"
   ]
  },
  {
   "cell_type": "code",
   "execution_count": null,
   "id": "6f18dd55",
   "metadata": {},
   "outputs": [],
   "source": []
  }
 ],
 "metadata": {
  "kernelspec": {
   "display_name": "venv",
   "language": "python",
   "name": "python3"
  },
  "language_info": {
   "codemirror_mode": {
    "name": "ipython",
    "version": 3
   },
   "file_extension": ".py",
   "mimetype": "text/x-python",
   "name": "python",
   "nbconvert_exporter": "python",
   "pygments_lexer": "ipython3",
   "version": "3.12.8"
  }
 },
 "nbformat": 4,
 "nbformat_minor": 5
}
